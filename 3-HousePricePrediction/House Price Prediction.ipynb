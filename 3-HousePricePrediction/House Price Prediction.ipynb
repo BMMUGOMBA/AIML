{
 "cells": [
  {
   "cell_type": "markdown",
   "id": "0511613c",
   "metadata": {},
   "source": [
    "# Importing Dependancies"
   ]
  },
  {
   "cell_type": "code",
   "execution_count": 6,
   "id": "249d1ea6",
   "metadata": {},
   "outputs": [],
   "source": [
    "import numpy as np #array\n",
    "import pandas as pd #dataframe\n",
    "import seaborn as sns\n",
    "import sklearn.datasets\n",
    "from sklearn.model_selection import train_test_split\n",
    "from xgboost import XGBRegressor\n",
    "from sklearn import metrics"
   ]
  },
  {
   "cell_type": "raw",
   "id": "18375bcb",
   "metadata": {},
   "source": [
    "Importinf the Boston House Price Dataset"
   ]
  },
  {
   "cell_type": "code",
   "execution_count": 15,
   "id": "9a925934",
   "metadata": {},
   "outputs": [],
   "source": [
    "#house_price_dataset = sklearn.datasets.load_boston()\n",
    "data_url = \"http://lib.stat.cmu.edu/datasets/boston\"\n",
    "raw_df = pd.read_csv(data_url, sep=\"\\s+\", skiprows=22, header=None)\n",
    "data = np.hstack([raw_df.values[::2, :], raw_df.values[1::2, :2]])\n",
    "target = raw_df.values[1::2, 2]"
   ]
  },
  {
   "cell_type": "code",
   "execution_count": 14,
   "id": "d8c10ce8",
   "metadata": {},
   "outputs": [
    {
     "name": "stdout",
     "output_type": "stream",
     "text": [
      "             0      1      2    3      4      5     6       7    8      9     10\n",
      "0       0.00632  18.00   2.31  0.0  0.538  6.575  65.2  4.0900  1.0  296.0  15.3\n",
      "1     396.90000   4.98  24.00  NaN    NaN    NaN   NaN     NaN  NaN    NaN   NaN\n",
      "2       0.02731   0.00   7.07  0.0  0.469  6.421  78.9  4.9671  2.0  242.0  17.8\n",
      "3     396.90000   9.14  21.60  NaN    NaN    NaN   NaN     NaN  NaN    NaN   NaN\n",
      "4       0.02729   0.00   7.07  0.0  0.469  7.185  61.1  4.9671  2.0  242.0  17.8\n",
      "...         ...    ...    ...  ...    ...    ...   ...     ...  ...    ...   ...\n",
      "1007  396.90000   5.64  23.90  NaN    NaN    NaN   NaN     NaN  NaN    NaN   NaN\n",
      "1008    0.10959   0.00  11.93  0.0  0.573  6.794  89.3  2.3889  1.0  273.0  21.0\n",
      "1009  393.45000   6.48  22.00  NaN    NaN    NaN   NaN     NaN  NaN    NaN   NaN\n",
      "1010    0.04741   0.00  11.93  0.0  0.573  6.030  80.8  2.5050  1.0  273.0  21.0\n",
      "1011  396.90000   7.88  11.90  NaN    NaN    NaN   NaN     NaN  NaN    NaN   NaN\n",
      "\n",
      "[1012 rows x 11 columns]\n"
     ]
    }
   ],
   "source": [
    "print(raw_df)"
   ]
  },
  {
   "cell_type": "code",
   "execution_count": null,
   "id": "a8c2693a",
   "metadata": {},
   "outputs": [],
   "source": []
  },
  {
   "cell_type": "code",
   "execution_count": null,
   "id": "3444529a",
   "metadata": {},
   "outputs": [],
   "source": []
  }
 ],
 "metadata": {
  "kernelspec": {
   "display_name": "Python 3 (ipykernel)",
   "language": "python",
   "name": "python3"
  },
  "language_info": {
   "codemirror_mode": {
    "name": "ipython",
    "version": 3
   },
   "file_extension": ".py",
   "mimetype": "text/x-python",
   "name": "python",
   "nbconvert_exporter": "python",
   "pygments_lexer": "ipython3",
   "version": "3.11.3"
  }
 },
 "nbformat": 4,
 "nbformat_minor": 5
}
