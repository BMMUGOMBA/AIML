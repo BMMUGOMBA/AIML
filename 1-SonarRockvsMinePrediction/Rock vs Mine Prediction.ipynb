{
 "cells": [
  {
   "cell_type": "markdown",
   "id": "35a4b585",
   "metadata": {},
   "source": [
    "# import libraries and dependancies\n"
   ]
  },
  {
   "cell_type": "code",
   "execution_count": 5,
   "id": "0d1ca9ce",
   "metadata": {},
   "outputs": [],
   "source": [
    "import numpy as np #for array\n",
    "import pandas as pd #\n",
    "from sklearn.model_selection import train_test_split\n",
    "from sklearn.linear_model import LogisticRegression\n",
    "from sklearn.metrics import accuracy_score"
   ]
  },
  {
   "cell_type": "markdown",
   "id": "8ac74c58",
   "metadata": {},
   "source": [
    "# Data collection and data processing"
   ]
  },
  {
   "cell_type": "code",
   "execution_count": null,
   "id": "8b828994",
   "metadata": {},
   "outputs": [],
   "source": []
  }
 ],
 "metadata": {
  "kernelspec": {
   "display_name": "Python 3 (ipykernel)",
   "language": "python",
   "name": "python3"
  },
  "language_info": {
   "codemirror_mode": {
    "name": "ipython",
    "version": 3
   },
   "file_extension": ".py",
   "mimetype": "text/x-python",
   "name": "python",
   "nbconvert_exporter": "python",
   "pygments_lexer": "ipython3",
   "version": "3.11.3"
  }
 },
 "nbformat": 4,
 "nbformat_minor": 5
}
